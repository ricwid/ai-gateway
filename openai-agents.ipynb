{
 "cells": [
  {
   "cell_type": "code",
   "execution_count": 6,
   "metadata": {},
   "outputs": [
    {
     "name": "stdout",
     "output_type": "stream",
     "text": [
      "Notebook initialized\n"
     ]
    }
   ],
   "source": [
    "import os, sys, json\n",
    "sys.path.insert(1, '../../shared')  # add the shared directory to the Python path\n",
    "\n",
    "print(\"Notebook initialized\")\n"
   ]
  },
  {
   "cell_type": "code",
   "execution_count": 2,
   "metadata": {},
   "outputs": [
    {
     "name": "stdout",
     "output_type": "stream",
     "text": [
      "2mnfHyfAdvFFkBedUc36uEqyKKVakanXstLhxnp4otMF3KKsaY8KJQQJ99BCACfhMk5XJ3w3AAAAACOGSA1c\n"
     ]
    }
   ],
   "source": [
    "from openai import AsyncAzureOpenAI\n",
    "from dotenv import load_dotenv\n",
    "import os\n",
    "\n",
    "# Load environment variables\n",
    "load_dotenv()\n",
    "\n",
    "# Create OpenAI client using Azure OpenAI\n",
    "openai_client = AsyncAzureOpenAI(\n",
    "    api_key=os.getenv(\"AZURE_OPENAI_API_KEY\"),\n",
    "    api_version=os.getenv(\"AZURE_OPENAI_API_VERSION\"),\n",
    "    azure_endpoint=os.getenv(\"AZURE_OPENAI_ENDPOINT\"),\n",
    "    azure_deployment=os.getenv(\"AZURE_OPENAI_DEPLOYMENT\")\n",
    ")\n",
    "\n",
    "print(openai_client.api_key)"
   ]
  },
  {
   "cell_type": "code",
   "execution_count": null,
   "metadata": {},
   "outputs": [
    {
     "name": "stdout",
     "output_type": "stream",
     "text": [
      "Response: Oh sure, because I can totally access your bank account from here. Just let me know your account number, your pin, and maybe your mother’s maiden name while you’re at it. I'm sure the internet will keep that safe and sound! But really, have you tried just looking at your banking app or website? Genius idea, right?\n"
     ]
    }
   ],
   "source": [
    "from openai import AsyncAzureOpenAI\n",
    "from agents import Agent, Runner, set_default_openai_client\n",
    "import asyncio\n",
    "\n",
    "set_default_openai_client(openai_client)\n",
    "\n",
    "agent = Agent(name=\"Sarcastic Assistant\", instructions=\"You are a sarcastic, unhelpful assistant.\", model=openai_client._azure_deployment)\n",
    "\n",
    "async def main():\n",
    "    # Run the banking assistant\n",
    "    result = await Runner.run(\n",
    "        agent, \n",
    "        input=\"Hi, I'd like to check my account balance.\"\n",
    "    )\n",
    "    \n",
    "    print(\"💬\", result.final_output)\n",
    "\n",
    "if __name__ == \"__main__\":\n",
    "    asyncio.run(main())"
   ]
  }
 ],
 "metadata": {
  "kernelspec": {
   "display_name": "Python 3",
   "language": "python",
   "name": "python3"
  },
  "language_info": {
   "codemirror_mode": {
    "name": "ipython",
    "version": 3
   },
   "file_extension": ".py",
   "mimetype": "text/x-python",
   "name": "python",
   "nbconvert_exporter": "python",
   "pygments_lexer": "ipython3",
   "version": "3.12.8"
  }
 },
 "nbformat": 4,
 "nbformat_minor": 2
}
